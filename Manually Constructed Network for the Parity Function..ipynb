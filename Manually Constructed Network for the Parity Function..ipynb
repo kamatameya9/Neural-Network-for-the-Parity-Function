{
 "cells": [
  {
   "cell_type": "code",
   "execution_count": 1,
   "id": "056ad739",
   "metadata": {},
   "outputs": [],
   "source": [
    "import torch\n",
    "import torch.nn as nn\n",
    "import torch.nn.functional as F\n",
    "import torch.optim as optim\n",
    "import numpy as np"
   ]
  },
  {
   "cell_type": "markdown",
   "id": "ffdeb5f1",
   "metadata": {},
   "source": [
    "#### How our parity function behaves\n",
    "On an input of 64 bits, it outputs 1 if there is an odd number of 0's (or 1's) in the input, and 0 otherwise."
   ]
  },
  {
   "cell_type": "code",
   "execution_count": 2,
   "id": "63f86857",
   "metadata": {},
   "outputs": [],
   "source": [
    "input_size = 64\n",
    "output_size = 1\n",
    "\n",
    "def parity(X):\n",
    "    Xp = torch.where(X == 0, -1, X)\n",
    "    Yp = -Xp.prod(1).view(-1,1)\n",
    "    Y = torch.where(Yp==-1, 0, Yp).view(-1,1)\n",
    "    return Y\n",
    "\n",
    "X = torch.randint(2, (2000, 64))\n",
    "Y = parity(X)\n",
    "data = X.float(), Y.float()"
   ]
  },
  {
   "cell_type": "markdown",
   "id": "1b7ea7ef",
   "metadata": {},
   "source": [
    "Our network given below has one hidden layer with 64 neurons."
   ]
  },
  {
   "cell_type": "code",
   "execution_count": 3,
   "id": "edac10f9",
   "metadata": {},
   "outputs": [],
   "source": [
    "class Parity(nn.Module):\n",
    "    def __init__(self, input_size, output_size):\n",
    "        super(Parity, self).__init__()\n",
    "        self.input_size = input_size\n",
    "        self.network = nn.Sequential(\n",
    "            nn.Linear(input_size, input_size),\n",
    "            nn.Tanh(),\n",
    "            nn.Linear(input_size, output_size),\n",
    "            nn.Sigmoid()\n",
    "        )\n",
    "\n",
    "    def forward(self, x):\n",
    "        return self.network(x)"
   ]
  },
  {
   "cell_type": "code",
   "execution_count": 4,
   "id": "c74acb69",
   "metadata": {},
   "outputs": [],
   "source": [
    "model = Parity(input_size, output_size)"
   ]
  },
  {
   "cell_type": "code",
   "execution_count": 5,
   "id": "e538ed0d",
   "metadata": {},
   "outputs": [],
   "source": [
    "#Manually setting the weights and biases\n",
    "l = torch.ones(64)\n",
    "for i in range(64):\n",
    "    if i%2==1:\n",
    "        l[i] -= 2\n",
    "with torch.no_grad():\n",
    "    model.network[0].weight = torch.nn.Parameter(torch.ones(64,64)*100000)\n",
    "    model.network[0].bias = torch.nn.Parameter(torch.arange(-0.5,-64.5,-1)*100000)\n",
    "    model.network[2].weight = torch.nn.Parameter(torch.Tensor(l.view(1,-1))*100000)\n",
    "    model.network[2].bias = torch.nn.Parameter(torch.Tensor([-0.5])*100000)"
   ]
  },
  {
   "cell_type": "markdown",
   "id": "bdffff20",
   "metadata": {},
   "source": [
    "Here we have multiplied the weights and biases by 100000 so that the tanh and sigmoid functions behave close to their respective step function approximations. This can also be achieved by putting the step functions itself as the activations instead of tanh and sigmoid, because although they are not differentiable, we are not training the model so they don't have to be."
   ]
  },
  {
   "cell_type": "code",
   "execution_count": 6,
   "id": "0a1e2058",
   "metadata": {},
   "outputs": [],
   "source": [
    "def accuracy(output, target):\n",
    "    count = 0\n",
    "    for i in range(len(output)):\n",
    "        if torch.round(output)[i]==target[i]:\n",
    "            count += 1\n",
    "    return 100*(count/len(output))"
   ]
  },
  {
   "cell_type": "code",
   "execution_count": 7,
   "id": "b638f4b9",
   "metadata": {
    "scrolled": true
   },
   "outputs": [],
   "source": [
    "#checking our model on 2000 randomly generated 64 bit vectors\n",
    "for i in range(2000):\n",
    "    if accuracy(model(data[0][i]),data[1][i]) != 100:\n",
    "        print('Not accurate')"
   ]
  },
  {
   "cell_type": "markdown",
   "id": "0983deb9",
   "metadata": {},
   "source": [
    "From above we can see that our network works."
   ]
  }
 ],
 "metadata": {
  "kernelspec": {
   "display_name": "Python 3.9.5 (torch)",
   "language": "python",
   "name": "torch"
  },
  "language_info": {
   "codemirror_mode": {
    "name": "ipython",
    "version": 3
   },
   "file_extension": ".py",
   "mimetype": "text/x-python",
   "name": "python",
   "nbconvert_exporter": "python",
   "pygments_lexer": "ipython3",
   "version": "3.8.12"
  }
 },
 "nbformat": 4,
 "nbformat_minor": 5
}
